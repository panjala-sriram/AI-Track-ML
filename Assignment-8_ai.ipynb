{
  "nbformat": 4,
  "nbformat_minor": 0,
  "metadata": {
    "colab": {
      "name": "Assignement-8B.ipynb",
      "provenance": [],
      "authorship_tag": "ABX9TyO665meeVwHN+6NsVckxfmW"
    },
    "kernelspec": {
      "name": "python3",
      "display_name": "Python 3"
    }
  },
  "cells": [
    {
      "cell_type": "code",
      "metadata": {
        "id": "D56goi3zsaWv",
        "colab_type": "code",
        "colab": {
          "base_uri": "https://localhost:8080/",
          "height": 34
        },
        "outputId": "c74d06fa-a58e-4865-d681-4c8531a36030"
      },
      "source": [
        "import pandas as pd\n",
        "\n",
        "data = pd.read_excel('Load Data in kW.xlsx')\n",
        "data.head()\n",
        "data.shape"
      ],
      "execution_count": 12,
      "outputs": [
        {
          "output_type": "execute_result",
          "data": {
            "text/plain": [
              "(2184, 3)"
            ]
          },
          "metadata": {
            "tags": []
          },
          "execution_count": 12
        }
      ]
    },
    {
      "cell_type": "code",
      "metadata": {
        "id": "Xyu1rySZwrra",
        "colab_type": "code",
        "colab": {
          "base_uri": "https://localhost:8080/",
          "height": 51
        },
        "outputId": "1f10b008-0da1-43ee-d5c8-929c03f95f32"
      },
      "source": [
        "hour_1 = data.iloc[0:-1, 2]\n",
        "hour_2 = data.iloc[1:, 2]\n",
        "print(hour_1.shape)\n",
        "print(hour_2.shape)"
      ],
      "execution_count": 13,
      "outputs": [
        {
          "output_type": "stream",
          "text": [
            "(2183,)\n",
            "(2183,)\n"
          ],
          "name": "stdout"
        }
      ]
    },
    {
      "cell_type": "code",
      "metadata": {
        "id": "FATqNNVY0MOO",
        "colab_type": "code",
        "colab": {}
      },
      "source": [
        "#The index of hour_2 series starts from 1, so resetting the index\n",
        "hour_2 = hour_2.reset_index()\n",
        "hour_2 = hour_2['Load (kW)']"
      ],
      "execution_count": 14,
      "outputs": []
    },
    {
      "cell_type": "code",
      "metadata": {
        "id": "UZX5sCKxvZZZ",
        "colab_type": "code",
        "colab": {
          "base_uri": "https://localhost:8080/",
          "height": 34
        },
        "outputId": "3877d024-4ab1-4f14-d68a-5b0544637915"
      },
      "source": [
        "df = pd.concat([hour_1, hour_2], axis = 1)\n",
        "df.shape"
      ],
      "execution_count": 15,
      "outputs": [
        {
          "output_type": "execute_result",
          "data": {
            "text/plain": [
              "(2183, 2)"
            ]
          },
          "metadata": {
            "tags": []
          },
          "execution_count": 15
        }
      ]
    },
    {
      "cell_type": "code",
      "metadata": {
        "id": "Nsk-nlHvxGoA",
        "colab_type": "code",
        "colab": {
          "base_uri": "https://localhost:8080/",
          "height": 255
        },
        "outputId": "e89eff64-9223-432e-d402-cd40e224063e"
      },
      "source": [
        "df.columns = ['Hour_1', 'Hour_2']\n",
        "df.head"
      ],
      "execution_count": 16,
      "outputs": [
        {
          "output_type": "execute_result",
          "data": {
            "text/plain": [
              "<bound method NDFrame.head of           Hour_1      Hour_2\n",
              "0     5551.82208  4983.17184\n",
              "1     4983.17184  4888.39680\n",
              "2     4888.39680  5072.95872\n",
              "3     5072.95872  5196.25980\n",
              "4     5196.25980  5641.29720\n",
              "...          ...         ...\n",
              "2178  5045.52384  4626.51840\n",
              "2179  4626.51840  4567.90752\n",
              "2180  4567.90752  4723.63164\n",
              "2181  4723.63164  5150.27520\n",
              "2182  5150.27520  6938.37468\n",
              "\n",
              "[2183 rows x 2 columns]>"
            ]
          },
          "metadata": {
            "tags": []
          },
          "execution_count": 16
        }
      ]
    },
    {
      "cell_type": "code",
      "metadata": {
        "id": "hxr9o4JYtbTP",
        "colab_type": "code",
        "colab": {
          "base_uri": "https://localhost:8080/",
          "height": 204
        },
        "outputId": "85039a3d-efb5-423d-e9ab-b3080fbe475e"
      },
      "source": [
        "normalized_df = (df - df.mean()) / df.std()\n",
        "normalized_df.head()"
      ],
      "execution_count": 17,
      "outputs": [
        {
          "output_type": "execute_result",
          "data": {
            "text/html": [
              "<div>\n",
              "<style scoped>\n",
              "    .dataframe tbody tr th:only-of-type {\n",
              "        vertical-align: middle;\n",
              "    }\n",
              "\n",
              "    .dataframe tbody tr th {\n",
              "        vertical-align: top;\n",
              "    }\n",
              "\n",
              "    .dataframe thead th {\n",
              "        text-align: right;\n",
              "    }\n",
              "</style>\n",
              "<table border=\"1\" class=\"dataframe\">\n",
              "  <thead>\n",
              "    <tr style=\"text-align: right;\">\n",
              "      <th></th>\n",
              "      <th>Hour_1</th>\n",
              "      <th>Hour_2</th>\n",
              "    </tr>\n",
              "  </thead>\n",
              "  <tbody>\n",
              "    <tr>\n",
              "      <th>0</th>\n",
              "      <td>-0.446228</td>\n",
              "      <td>-0.979915</td>\n",
              "    </tr>\n",
              "    <tr>\n",
              "      <th>1</th>\n",
              "      <td>-0.979438</td>\n",
              "      <td>-1.068773</td>\n",
              "    </tr>\n",
              "    <tr>\n",
              "      <th>2</th>\n",
              "      <td>-1.068307</td>\n",
              "      <td>-0.895734</td>\n",
              "    </tr>\n",
              "    <tr>\n",
              "      <th>3</th>\n",
              "      <td>-0.895247</td>\n",
              "      <td>-0.780131</td>\n",
              "    </tr>\n",
              "    <tr>\n",
              "      <th>4</th>\n",
              "      <td>-0.779630</td>\n",
              "      <td>-0.362881</td>\n",
              "    </tr>\n",
              "  </tbody>\n",
              "</table>\n",
              "</div>"
            ],
            "text/plain": [
              "     Hour_1    Hour_2\n",
              "0 -0.446228 -0.979915\n",
              "1 -0.979438 -1.068773\n",
              "2 -1.068307 -0.895734\n",
              "3 -0.895247 -0.780131\n",
              "4 -0.779630 -0.362881"
            ]
          },
          "metadata": {
            "tags": []
          },
          "execution_count": 17
        }
      ]
    },
    {
      "cell_type": "code",
      "metadata": {
        "id": "_FaQPFYntdQH",
        "colab_type": "code",
        "colab": {}
      },
      "source": [
        "from sklearn.model_selection import train_test_split\n",
        "x_train, x_test, y_train, y_test = train_test_split(normalized_df.Hour_1, normalized_df.Hour_2, test_size = 0.10, random_state = 42)"
      ],
      "execution_count": 18,
      "outputs": []
    },
    {
      "cell_type": "code",
      "metadata": {
        "id": "Njw13YfXteVb",
        "colab_type": "code",
        "colab": {}
      },
      "source": [
        "m = 1 #Initial value of slope\n",
        "c = -1 #Initial value of intercept\n",
        "lr = 0.01 #Learning Rate\n",
        "delta_m = 1 #Initialising Δm\n",
        "delta_c = 1 #Initialising Δc\n",
        "v_m = 0\n",
        "v_c = 0\n",
        "lam = 0.9\n",
        "max_iters = 100 #Maximum number of iterations  \n",
        "iters_count = 0 #Counting Iterations\n",
        "\n",
        "\n",
        "def deriv(m_f, c_f, x, y, v1, v2):\n",
        "  global lam\n",
        "  m_deriv = -1 * (y - (m_f - lam * v1) * x - c_f + lam * v2) * x\n",
        "  c_deriv = -1 * (y - (m_f - lam * v1) * x - c_f + lam * v2)\n",
        "  return m_deriv, c_deriv  \n",
        "\n",
        "\n",
        "while iters_count < max_iters:\n",
        "  for i in range(x_train.shape[0]):\n",
        "    delta_m, delta_c = deriv(m, c, x_train.iloc[i], y_train.iloc[i], v_m, v_c)\n",
        "    v_m = lam * v_m - lr * delta_m\n",
        "    v_c = lam * v_c - lr * delta_c\n",
        "    m += v_m\n",
        "    c += v_c\n",
        "  iters_count += 1\n",
        "  print(f\"Iteration: {iters_count}\\tValue of m: {m}, \\tValue of c: {c}\")"
      ],
      "execution_count": null,
      "outputs": []
    },
    {
      "cell_type": "code",
      "metadata": {
        "id": "bBs4Sz35-MHK",
        "colab_type": "code",
        "colab": {
          "base_uri": "https://localhost:8080/",
          "height": 51
        },
        "outputId": "3bc6ac63-336e-4126-ac83-28582752dcd2"
      },
      "source": [
        "print(f\"\\nThe local minima occurs at: {m}, {c}\")"
      ],
      "execution_count": 20,
      "outputs": [
        {
          "output_type": "stream",
          "text": [
            "\n",
            "The local minima occurs at: 0.8497957222095366, -0.15662392198536862\n"
          ],
          "name": "stdout"
        }
      ]
    },
    {
      "cell_type": "code",
      "metadata": {
        "id": "TP4i7ucLtjuX",
        "colab_type": "code",
        "colab": {}
      },
      "source": [
        "import numpy as np\n",
        "\n",
        "x_train = np.array(x_train)\n",
        "y_train = np.array(y_train)\n",
        "x_test = np.array(x_test)\n",
        "y_test = np.array(y_test)"
      ],
      "execution_count": 21,
      "outputs": []
    },
    {
      "cell_type": "code",
      "metadata": {
        "id": "3p0sn6oDtmUX",
        "colab_type": "code",
        "colab": {}
      },
      "source": [
        "y_pred_train = []\n",
        "for i in x_train:\n",
        "  y_p_tr = (m * i) + c\n",
        "  y_pred_train.append(y_p_tr)\n",
        "y_pred_train = np.array(y_pred_train)"
      ],
      "execution_count": 22,
      "outputs": []
    },
    {
      "cell_type": "code",
      "metadata": {
        "id": "OtfMlnErto0h",
        "colab_type": "code",
        "colab": {}
      },
      "source": [
        "y_pred_test = []\n",
        "for i in x_test:\n",
        "  y_p_te = (m * i) + c\n",
        "  y_pred_test.append(y_p_te)\n",
        "y_pred_test = np.array(y_pred_test)"
      ],
      "execution_count": 23,
      "outputs": []
    },
    {
      "cell_type": "code",
      "metadata": {
        "id": "YfrgcC2gtp1f",
        "colab_type": "code",
        "colab": {
          "base_uri": "https://localhost:8080/",
          "height": 68
        },
        "outputId": "b1282804-b6bf-40bd-a14f-dbd81d992380"
      },
      "source": [
        "import math\n",
        "from sklearn.metrics import mean_squared_error \n",
        "from sklearn.metrics import mean_absolute_error\n",
        "\n",
        "\n",
        "#Training Accuracies\n",
        "mse = math.sqrt(mean_squared_error(y_train, y_pred_train)) \n",
        "print('Root mean square error', mse) \n",
        "mse = (mean_squared_error(y_train, y_pred_train)) \n",
        "print('Mean square error', mse) \n",
        "mae=mean_absolute_error(y_train, y_pred_train)\n",
        "print('Mean absolute error', mae)"
      ],
      "execution_count": 24,
      "outputs": [
        {
          "output_type": "stream",
          "text": [
            "Root mean square error 0.651899011077035\n",
            "Mean square error 0.42497232064321616\n",
            "Mean absolute error 0.43781836275406955\n"
          ],
          "name": "stdout"
        }
      ]
    },
    {
      "cell_type": "code",
      "metadata": {
        "id": "5MHCLwB8tryc",
        "colab_type": "code",
        "colab": {
          "base_uri": "https://localhost:8080/",
          "height": 68
        },
        "outputId": "b9163ab5-a0e1-4d09-f620-9cc2c54912f7"
      },
      "source": [
        "#Testing Accuracies\n",
        "mse = math.sqrt(mean_squared_error(y_test, y_pred_test)) \n",
        "print('Root mean square error', mse) \n",
        "mse = (mean_squared_error(y_test, y_pred_test)) \n",
        "print('Mean square error', mse) \n",
        "mae=mean_absolute_error(y_test, y_pred_test)\n",
        "print('Mean absolute error', mae)"
      ],
      "execution_count": 25,
      "outputs": [
        {
          "output_type": "stream",
          "text": [
            "Root mean square error 0.58744943002155\n",
            "Mean square error 0.345096832832644\n",
            "Mean absolute error 0.4057943073140245\n"
          ],
          "name": "stdout"
        }
      ]
    },
    {
      "cell_type": "code",
      "metadata": {
        "id": "Tf8ad18XFKhb",
        "colab_type": "code",
        "colab": {}
      },
      "source": [
        "dec_1st = []\n",
        "dec_1st.append(df.iloc[-1, 1])\n",
        "for hour in range(24):\n",
        "  normalised_pred = (dec_1st[-1] - df.mean()) / df.std()\n",
        "  pred_load = m * normalised_pred + c\n",
        "  pred_load = (pred_load * df.std()) + df.mean()\n",
        "  dec_1st.append(pred_load)"
      ],
      "execution_count": 26,
      "outputs": []
    },
    {
      "cell_type": "code",
      "metadata": {
        "id": "CNCxoEeu-VDD",
        "colab_type": "code",
        "colab": {
          "base_uri": "https://localhost:8080/",
          "height": 51
        },
        "outputId": "4c905aac-34fc-4593-b1fc-0dbba57ab093"
      },
      "source": [
        "hour = input(\"Enter an hour(0-23) of 1st December, 2018 to predict the load\")\n",
        "print(f\"Predicted Load (kW) at {hour} hours on 1st December, 2018: {dec_1st[1 + int(hour)][0]}\")"
      ],
      "execution_count": 28,
      "outputs": [
        {
          "output_type": "stream",
          "text": [
            "Enter an hour(0-23) of 1st December, 2018 to predict the load22\n",
            "Predicted Load (kW) at 22 hours on 1st December, 2018: 4963.544803236294\n"
          ],
          "name": "stdout"
        }
      ]
    }
  ]
}
