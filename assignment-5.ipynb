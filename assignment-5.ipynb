{
 "cells": [
  {
   "cell_type": "code",
   "execution_count": 1,
   "metadata": {},
   "outputs": [],
   "source": [
    "import pandas as pd\n",
    "import numpy as  np\n"
   ]
  },
  {
   "cell_type": "code",
   "execution_count": 2,
   "metadata": {},
   "outputs": [
    {
     "name": "stdout",
     "output_type": "stream",
     "text": [
      "*** No CODEPAGE record, no encoding_override: will use 'ascii'\n"
     ]
    }
   ],
   "source": [
    "data=pd.read_excel(\"a-5.xls\")"
   ]
  },
  {
   "cell_type": "code",
   "execution_count": 3,
   "metadata": {},
   "outputs": [],
   "source": [
    "from sklearn.preprocessing import StandardScaler\n",
    "scaler = StandardScaler()\n",
    "data = scaler.fit_transform(data)\n",
    "x=data[:,0]\n",
    "y=data[:,1]\n"
   ]
  },
  {
   "cell_type": "code",
   "execution_count": 4,
   "metadata": {},
   "outputs": [],
   "source": [
    "from sklearn.model_selection import train_test_split\n",
    "xtrain, xtest, ytrain, ytest = train_test_split(x, y, test_size=0.1,random_state=5)"
   ]
  },
  {
   "cell_type": "code",
   "execution_count": 5,
   "metadata": {},
   "outputs": [],
   "source": [
    "def dev(m,c,x,y):\n",
    "    m_dev=0\n",
    "    c_dev=0\n",
    "    for j in range(len(x)):\n",
    "        m_dev=m_dev-(1*(y[j]-m*x[j]-c)*x[j])\n",
    "        c_dev=c_dev-(1*(y[j]-m*x[j]-c))\n",
    "    m_dev=m_dev/len(x)\n",
    "    c_dev=c_dev/len(x)\n",
    "    \n",
    "    return m_dev,c_dev\n",
    "\n"
   ]
  },
  {
   "cell_type": "code",
   "execution_count": 6,
   "metadata": {},
   "outputs": [],
   "source": [
    "me=[]\n",
    "ae=[]"
   ]
  },
  {
   "cell_type": "code",
   "execution_count": 7,
   "metadata": {},
   "outputs": [
    {
     "name": "stdout",
     "output_type": "stream",
     "text": [
      "-0.23356553135569072 0.0005891724923279275\n"
     ]
    }
   ],
   "source": [
    "m=1\n",
    "c=-1\n",
    "\n",
    "for i in range(1000):\n",
    "    for j in range(len(xtrain)):\n",
    "        if i==999:\n",
    "            me.append(((ytrain[j]-m*xtrain[j]-c)**2)/2)\n",
    "            ae.append((ytrain[j]-m*xtrain[j]-c))\n",
    "        del_m,del_c=dev(m,c,xtrain,ytrain)\n",
    "        m=m-0.01*del_m\n",
    "        c=c-0.01*del_c\n",
    "print(m,c)\n",
    "            \n",
    "            "
   ]
  },
  {
   "cell_type": "code",
   "execution_count": 8,
   "metadata": {},
   "outputs": [
    {
     "name": "stdout",
     "output_type": "stream",
     "text": [
      "mse of train data 0.5205640306312097\n",
      "rse of train data 0.7215012339776071\n",
      "ase of train data 8.22387425648264e-18\n"
     ]
    }
   ],
   "source": [
    "import math\n",
    "print(\"mse of train data \"+str(sum(me)/len(xtrain)))\n",
    "print(\"rse of train data \"+str(math.sqrt(sum(me)/len(xtrain))))\n",
    "print(\"ase of train data \"+str(sum(ae)/len(xtrain)))"
   ]
  },
  {
   "cell_type": "code",
   "execution_count": 9,
   "metadata": {},
   "outputs": [],
   "source": [
    "me=[]\n",
    "ae=[]\n",
    "for j in range(len(xtest)):\n",
    "        me.append(((ytest[j]-m*xtest[j]-c)**2)/2)\n",
    "        ae.append((ytest[j]-m*xtest[j]-c))"
   ]
  },
  {
   "cell_type": "code",
   "execution_count": 10,
   "metadata": {},
   "outputs": [
    {
     "name": "stdout",
     "output_type": "stream",
     "text": [
      "mse of train data 0.04392802510087546\n",
      "rse of train data 0.20959013598181442\n",
      "ase of train data -0.005891724923259604\n"
     ]
    }
   ],
   "source": [
    "import math\n",
    "print(\"mse of train data \"+str(sum(me)/len(xtest)))\n",
    "print(\"rse of train data \"+str(math.sqrt(sum(me)/len(xtest))))\n",
    "print(\"ase of train data \"+str(sum(ae)/len(xtest)))"
   ]
  },
  {
   "cell_type": "code",
   "execution_count": null,
   "metadata": {},
   "outputs": [],
   "source": []
  }
 ],
 "metadata": {
  "kernelspec": {
   "display_name": "Python 3",
   "language": "python",
   "name": "python3"
  },
  "language_info": {
   "codemirror_mode": {
    "name": "ipython",
    "version": 3
   },
   "file_extension": ".py",
   "mimetype": "text/x-python",
   "name": "python",
   "nbconvert_exporter": "python",
   "pygments_lexer": "ipython3",
   "version": "3.7.4"
  }
 },
 "nbformat": 4,
 "nbformat_minor": 2
}
