{
 "cells": [
  {
   "cell_type": "code",
   "execution_count": 67,
   "metadata": {
    "colab": {
     "base_uri": "https://localhost:8080/",
     "height": 34
    },
    "colab_type": "code",
    "id": "D56goi3zsaWv",
    "outputId": "ab885ba0-cf0d-42f2-f509-d5e4a2b75fa3"
   },
   "outputs": [
    {
     "data": {
      "text/plain": [
       "(2184, 3)"
      ]
     },
     "execution_count": 67,
     "metadata": {
      "tags": []
     },
     "output_type": "execute_result"
    }
   ],
   "source": [
    "import pandas as pd\n",
    "\n",
    "data = pd.read_excel('Load Data in kW.xlsx')\n",
    "data.head()\n",
    "data.shape"
   ]
  },
  {
   "cell_type": "code",
   "execution_count": 68,
   "metadata": {
    "colab": {
     "base_uri": "https://localhost:8080/",
     "height": 51
    },
    "colab_type": "code",
    "id": "Xyu1rySZwrra",
    "outputId": "42b4e17f-7696-4dfe-90a9-67689b463ccf"
   },
   "outputs": [
    {
     "name": "stdout",
     "output_type": "stream",
     "text": [
      "(2160,)\n",
      "(2160,)\n"
     ]
    }
   ],
   "source": [
    "day_1 = data.iloc[0:-24, 2]\n",
    "day_2 = data.iloc[24:, 2]\n",
    "print(day_1.shape)\n",
    "print(day_2.shape)"
   ]
  },
  {
   "cell_type": "code",
   "execution_count": 69,
   "metadata": {
    "colab": {},
    "colab_type": "code",
    "id": "FATqNNVY0MOO"
   },
   "outputs": [],
   "source": [
    "#The index of day_2 series starts from 24, so resetting the index\n",
    "day_2 = day_2.reset_index()\n",
    "day_2 = day_2['Load (kW)'] "
   ]
  },
  {
   "cell_type": "code",
   "execution_count": 70,
   "metadata": {
    "colab": {
     "base_uri": "https://localhost:8080/",
     "height": 34
    },
    "colab_type": "code",
    "id": "UZX5sCKxvZZZ",
    "outputId": "964dcc36-83c9-478b-d5b7-c6a11b936a1c"
   },
   "outputs": [
    {
     "data": {
      "text/plain": [
       "(2160, 2)"
      ]
     },
     "execution_count": 70,
     "metadata": {
      "tags": []
     },
     "output_type": "execute_result"
    }
   ],
   "source": [
    "df = pd.concat([day_1, day_2], axis = 1)\n",
    "df.shape"
   ]
  },
  {
   "cell_type": "code",
   "execution_count": 71,
   "metadata": {
    "colab": {
     "base_uri": "https://localhost:8080/",
     "height": 255
    },
    "colab_type": "code",
    "id": "Nsk-nlHvxGoA",
    "outputId": "f10f96ac-d8db-4728-9ac0-c51a9d9c3854"
   },
   "outputs": [
    {
     "data": {
      "text/plain": [
       "<bound method NDFrame.head of            Day_1       Day_2\n",
       "0     5551.82208  4931.26380\n",
       "1     4983.17184  4775.53968\n",
       "2     4888.39680  4713.81120\n",
       "3     5072.95872  4689.02628\n",
       "4     5196.25980  4844.75040\n",
       "...          ...         ...\n",
       "2155  4643.97696  4626.51840\n",
       "2156  5813.70048  4567.90752\n",
       "2157  7115.92200  4723.63164\n",
       "2158  6189.99480  5150.27520\n",
       "2159  5657.97636  6938.37468\n",
       "\n",
       "[2160 rows x 2 columns]>"
      ]
     },
     "execution_count": 71,
     "metadata": {
      "tags": []
     },
     "output_type": "execute_result"
    }
   ],
   "source": [
    "df.columns = ['Day_1', 'Day_2']\n",
    "df.head"
   ]
  },
  {
   "cell_type": "code",
   "execution_count": 72,
   "metadata": {
    "colab": {
     "base_uri": "https://localhost:8080/",
     "height": 204
    },
    "colab_type": "code",
    "id": "hxr9o4JYtbTP",
    "outputId": "88c9b1f6-254b-47cb-f3db-1ac6b7798a81"
   },
   "outputs": [
    {
     "data": {
      "text/html": [
       "<div>\n",
       "<style scoped>\n",
       "    .dataframe tbody tr th:only-of-type {\n",
       "        vertical-align: middle;\n",
       "    }\n",
       "\n",
       "    .dataframe tbody tr th {\n",
       "        vertical-align: top;\n",
       "    }\n",
       "\n",
       "    .dataframe thead th {\n",
       "        text-align: right;\n",
       "    }\n",
       "</style>\n",
       "<table border=\"1\" class=\"dataframe\">\n",
       "  <thead>\n",
       "    <tr style=\"text-align: right;\">\n",
       "      <th></th>\n",
       "      <th>Day_1</th>\n",
       "      <th>Day_2</th>\n",
       "    </tr>\n",
       "  </thead>\n",
       "  <tbody>\n",
       "    <tr>\n",
       "      <th>0</th>\n",
       "      <td>-0.454862</td>\n",
       "      <td>-1.026890</td>\n",
       "    </tr>\n",
       "    <tr>\n",
       "      <th>1</th>\n",
       "      <td>-0.988072</td>\n",
       "      <td>-1.172657</td>\n",
       "    </tr>\n",
       "    <tr>\n",
       "      <th>2</th>\n",
       "      <td>-1.076940</td>\n",
       "      <td>-1.230438</td>\n",
       "    </tr>\n",
       "    <tr>\n",
       "      <th>3</th>\n",
       "      <td>-0.903881</td>\n",
       "      <td>-1.253638</td>\n",
       "    </tr>\n",
       "    <tr>\n",
       "      <th>4</th>\n",
       "      <td>-0.788264</td>\n",
       "      <td>-1.107871</td>\n",
       "    </tr>\n",
       "  </tbody>\n",
       "</table>\n",
       "</div>"
      ],
      "text/plain": [
       "      Day_1     Day_2\n",
       "0 -0.454862 -1.026890\n",
       "1 -0.988072 -1.172657\n",
       "2 -1.076940 -1.230438\n",
       "3 -0.903881 -1.253638\n",
       "4 -0.788264 -1.107871"
      ]
     },
     "execution_count": 72,
     "metadata": {
      "tags": []
     },
     "output_type": "execute_result"
    }
   ],
   "source": [
    "normalized_df = (df-df.mean())/df.std()\n",
    "normalized_df.head()"
   ]
  },
  {
   "cell_type": "code",
   "execution_count": 73,
   "metadata": {
    "colab": {},
    "colab_type": "code",
    "id": "_FaQPFYntdQH"
   },
   "outputs": [],
   "source": [
    "from sklearn.model_selection import train_test_split\n",
    "x_train, x_test, y_train, y_test = train_test_split(normalized_df.Day_1, normalized_df.Day_2, test_size = 0.10, random_state = 42)"
   ]
  },
  {
   "cell_type": "code",
   "execution_count": null,
   "metadata": {
    "colab": {},
    "colab_type": "code",
    "id": "Njw13YfXteVb"
   },
   "outputs": [],
   "source": [
    "m = 1 #Initial value of slope\n",
    "c = -1 #Initial value of intercept\n",
    "lr = 0.01 #Learning Rate\n",
    "delta_m = 1 #Initialising Δm\n",
    "delta_c = 1 #Initialising Δc\n",
    "v_m = 0\n",
    "v_c = 0\n",
    "lam = 0.9\n",
    "max_iters = 100 #Maximum number of iterations  \n",
    "iters_count = 0 #Counting Iterations\n",
    "\n",
    "\n",
    "def deriv(m_f, c_f, x, y):\n",
    "    m_deriv = -1*(y-m_f*x-c_f)*x\n",
    "    c_deriv = -1*(y-m_f*x-c_f)\n",
    "    return m_deriv, c_deriv  \n",
    "\n",
    "\n",
    "while iters_count < max_iters:\n",
    "  for i in range(x_train.shape[0]):\n",
    "    delta_m, delta_c = deriv(m, c, x_train.iloc[i], y_train.iloc[i])\n",
    "    v_m = lam * v_m - lr * delta_m\n",
    "    v_c = lam * v_c - lr * delta_c\n",
    "    m += v_m\n",
    "    c += v_c\n",
    "  iters_count += 1\n",
    "  print(f\"Iteration: {iters_count}\\tValue of m: {m}, \\tValue of c: {c}\")"
   ]
  },
  {
   "cell_type": "code",
   "execution_count": 77,
   "metadata": {
    "colab": {
     "base_uri": "https://localhost:8080/",
     "height": 51
    },
    "colab_type": "code",
    "id": "bBs4Sz35-MHK",
    "outputId": "71657185-2984-47ec-c150-92b728bacb87"
   },
   "outputs": [
    {
     "name": "stdout",
     "output_type": "stream",
     "text": [
      "\n",
      "The local minima occurs at: 0.8885266666378756, -0.015125603603097466\n"
     ]
    }
   ],
   "source": [
    "print(f\"\\nThe local minima occurs at: {m}, {c}\")"
   ]
  },
  {
   "cell_type": "code",
   "execution_count": 78,
   "metadata": {
    "colab": {},
    "colab_type": "code",
    "id": "TP4i7ucLtjuX"
   },
   "outputs": [],
   "source": [
    "import numpy as np\n",
    "\n",
    "x_train = np.array(x_train)\n",
    "y_train = np.array(y_train)\n",
    "x_test = np.array(x_test)\n",
    "y_test = np.array(y_test)"
   ]
  },
  {
   "cell_type": "code",
   "execution_count": 79,
   "metadata": {
    "colab": {},
    "colab_type": "code",
    "id": "3p0sn6oDtmUX"
   },
   "outputs": [],
   "source": [
    "y_pred_train = []\n",
    "for i in x_train:\n",
    "  y_p_tr = (m * i) + c\n",
    "  y_pred_train.append(y_p_tr)\n",
    "y_pred_train = np.array(y_pred_train)"
   ]
  },
  {
   "cell_type": "code",
   "execution_count": 80,
   "metadata": {
    "colab": {},
    "colab_type": "code",
    "id": "OtfMlnErto0h"
   },
   "outputs": [],
   "source": [
    "y_pred_test = []\n",
    "for i in x_test:\n",
    "  y_p_te = (m * i) + c\n",
    "  y_pred_test.append(y_p_te)\n",
    "y_pred_test = np.array(y_pred_test)"
   ]
  },
  {
   "cell_type": "code",
   "execution_count": 81,
   "metadata": {
    "colab": {
     "base_uri": "https://localhost:8080/",
     "height": 68
    },
    "colab_type": "code",
    "id": "YfrgcC2gtp1f",
    "outputId": "cb53e9cb-c276-4e33-e16e-418f253ac828"
   },
   "outputs": [
    {
     "name": "stdout",
     "output_type": "stream",
     "text": [
      "Root mean square error 0.6888134336509062\n",
      "Mean square error 0.4744639463779514\n",
      "Mean absolute error 0.4922787663231916\n"
     ]
    }
   ],
   "source": [
    "import math\n",
    "from sklearn.metrics import mean_squared_error \n",
    "from sklearn.metrics import mean_absolute_error\n",
    "\n",
    "\n",
    "#Training Accuracies\n",
    "mse = math.sqrt(mean_squared_error(y_train, y_pred_train)) \n",
    "print('Root mean square error', mse) \n",
    "mse = (mean_squared_error(y_train, y_pred_train)) \n",
    "print('Mean square error', mse) \n",
    "mae=mean_absolute_error(y_train, y_pred_train)\n",
    "print('Mean absolute error', mae)"
   ]
  },
  {
   "cell_type": "code",
   "execution_count": 82,
   "metadata": {
    "colab": {
     "base_uri": "https://localhost:8080/",
     "height": 68
    },
    "colab_type": "code",
    "id": "5MHCLwB8tryc",
    "outputId": "ad9b5338-0676-4bf9-aefa-55304c36abd0"
   },
   "outputs": [
    {
     "name": "stdout",
     "output_type": "stream",
     "text": [
      "Root mean square error 0.6650642307346852\n",
      "Mean square error 0.4423104310027186\n",
      "Mean absolute error 0.4804803039008491\n"
     ]
    }
   ],
   "source": [
    "#Testing Accuracies\n",
    "mse = math.sqrt(mean_squared_error(y_test, y_pred_test)) \n",
    "print('Root mean square error', mse) \n",
    "mse = (mean_squared_error(y_test, y_pred_test)) \n",
    "print('Mean square error', mse) \n",
    "mae=mean_absolute_error(y_test, y_pred_test)\n",
    "print('Mean absolute error', mae)"
   ]
  },
  {
   "cell_type": "code",
   "execution_count": 94,
   "metadata": {
    "colab": {
     "base_uri": "https://localhost:8080/",
     "height": 51
    },
    "colab_type": "code",
    "id": "CNCxoEeu-VDD",
    "outputId": "acec031e-0356-42b5-da09-f02dc22485f8"
   },
   "outputs": [
    {
     "name": "stdout",
     "output_type": "stream",
     "text": [
      "Enter an hour(0-23) of 1st December, 2018 to predict the load9\n",
      "Predicted Load (kW) at 9 hours on 1st December, 2018: 5692.727136365451\n"
     ]
    }
   ],
   "source": [
    "hour = input(\"Enter an hour(0-23) of 1st December, 2018 to predict the load\")\n",
    "index = 2137 + int(hour)\n",
    "x = normalized_df.iloc[index, 1]\n",
    "normalised_output = m * x + c\n",
    "output = (normalised_output * df.std()) + df.mean()\n",
    "print(f\"Predicted Load (kW) at {hour} hours on 1st December, 2018: {output[0]}\")"
   ]
  }
 ],
 "metadata": {
  "colab": {
   "authorship_tag": "ABX9TyOUtm9SuJu53ch5hKvmbRbW",
   "name": "Assignment-7B.ipynb",
   "provenance": []
  },
  "kernelspec": {
   "display_name": "Python 3",
   "language": "python",
   "name": "python3"
  },
  "language_info": {
   "codemirror_mode": {
    "name": "ipython",
    "version": 3
   },
   "file_extension": ".py",
   "mimetype": "text/x-python",
   "name": "python",
   "nbconvert_exporter": "python",
   "pygments_lexer": "ipython3",
   "version": "3.7.4"
  }
 },
 "nbformat": 4,
 "nbformat_minor": 1
}
