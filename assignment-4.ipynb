{
 "cells": [
  {
   "cell_type": "code",
   "execution_count": 16,
   "metadata": {},
   "outputs": [],
   "source": [
    "import pandas as pd\n",
    "import numpy as  np\n"
   ]
  },
  {
   "cell_type": "code",
   "execution_count": 17,
   "metadata": {},
   "outputs": [
    {
     "name": "stdout",
     "output_type": "stream",
     "text": [
      "*** No CODEPAGE record, no encoding_override: will use 'ascii'\n"
     ]
    }
   ],
   "source": [
    "data=pd.read_excel(\"slr09.xls\")"
   ]
  },
  {
   "cell_type": "code",
   "execution_count": 28,
   "metadata": {},
   "outputs": [],
   "source": [
    "from sklearn.preprocessing import StandardScaler\n",
    "scaler = StandardScaler()\n",
    "data = scaler.fit_transform(data)\n",
    "x=data[:,0]\n",
    "y=data[:,1]\n"
   ]
  },
  {
   "cell_type": "code",
   "execution_count": 38,
   "metadata": {},
   "outputs": [],
   "source": [
    "from sklearn.model_selection import train_test_split\n",
    "xtrain, xtest, ytrain, ytest = train_test_split(x, y, test_size=0.1,random_state=5)"
   ]
  },
  {
   "cell_type": "code",
   "execution_count": 39,
   "metadata": {},
   "outputs": [],
   "source": [
    "def dev(m,c,x,y):\n",
    "    return -1*(y-m*x-c)*x,-1*(y-m*x-c)\n",
    "\n"
   ]
  },
  {
   "cell_type": "code",
   "execution_count": 41,
   "metadata": {},
   "outputs": [
    {
     "name": "stdout",
     "output_type": "stream",
     "text": [
      "[-0.12500664  0.27977677 -0.12500664  0.48216848 -0.93457348  0.8869519\n",
      " -1.94653203  1.08934361 -0.73218177  1.69651874 -0.73218177 -1.13696519\n",
      " -1.3393569   0.27977677  0.48216848  0.07738507  0.8869519  -1.13696519\n",
      "  0.68456019 -0.73218177 -0.73218177  1.49412703 -1.13696519 -0.52979006\n",
      "  0.68456019 -0.52979006 -1.13696519 -0.32739835  1.69651874 -0.73218177]\n"
     ]
    }
   ],
   "source": [
    "print(xtrain)"
   ]
  },
  {
   "cell_type": "code",
   "execution_count": 48,
   "metadata": {},
   "outputs": [],
   "source": [
    "me=[]\n",
    "ae=[]"
   ]
  },
  {
   "cell_type": "code",
   "execution_count": 49,
   "metadata": {},
   "outputs": [
    {
     "name": "stdout",
     "output_type": "stream",
     "text": [
      "-0.4635286565354157 0.03050986567912844\n"
     ]
    }
   ],
   "source": [
    "m=1\n",
    "c=-1\n",
    "\n",
    "for i in range(1000):\n",
    "    for j in range(len(xtrain)):\n",
    "        if i==999:\n",
    "            me.append((ytrain[j]-m*xtrain[j]-c)**2)\n",
    "            ae.append((ytrain[j]-m*xtrain[j]-c))\n",
    "        del_m,del_c=dev(m,c,x[j],y[j])\n",
    "        m=m-0.01*del_m\n",
    "        c=c-0.01*del_c\n",
    "print(m,c)\n",
    "            \n",
    "            "
   ]
  },
  {
   "cell_type": "code",
   "execution_count": 57,
   "metadata": {},
   "outputs": [
    {
     "name": "stdout",
     "output_type": "stream",
     "text": [
      "mse of train data 0.9073206736918003\n",
      "mse of train data 0.9525338176105876\n",
      "mse of train data -0.1916975885473221\n"
     ]
    }
   ],
   "source": [
    "import math\n",
    "print(\"mse of train data \"+str(sum(me)/len(xtrain)))\n",
    "print(\"mse of train data \"+str(math.sqrt(sum(me)/len(xtrain))))\n",
    "print(\"mse of train data \"+str(sum(ae)/len(xtrain)))"
   ]
  },
  {
   "cell_type": "code",
   "execution_count": 51,
   "metadata": {},
   "outputs": [
    {
     "name": "stdout",
     "output_type": "stream",
     "text": [
      "[0.17001881928161047, 0.10127994401475508, 0.16819707895787003, 0.397285265635578, -0.6520400570918589, 1.6663902119090679, -1.4078564156806, 1.027805787349151, 0.9441776515345643, -1.0318625955374783, -1.4180655731347327, -0.017136882717462373, 0.3398307053660864, -0.6717628760866374, -1.5185870051841814, -0.6031572952386987, -1.2622861460090593, 0.6148984847591021, -0.8917736355583985, 1.7337940764533848, -1.6526133295768468, -1.3949069114249464, 0.10864255216428167, -0.6581353322006078, 1.0569556448210373, 0.19716323475787859, -0.5925449072732794, 0.6448156683215935, -0.38545854271774405, -0.7639952763130919]\n"
     ]
    }
   ],
   "source": [
    " for j in range(len(xtest)):\n",
    "        me.append((ytrain[j]-m*xtrain[j]-c)**2)\n",
    "            ae.append((ytrain[j]-m*xtrain[j]-c))"
   ]
  },
  {
   "cell_type": "code",
   "execution_count": null,
   "metadata": {},
   "outputs": [],
   "source": []
  }
 ],
 "metadata": {
  "kernelspec": {
   "display_name": "Python 3",
   "language": "python",
   "name": "python3"
  },
  "language_info": {
   "codemirror_mode": {
    "name": "ipython",
    "version": 3
   },
   "file_extension": ".py",
   "mimetype": "text/x-python",
   "name": "python",
   "nbconvert_exporter": "python",
   "pygments_lexer": "ipython3",
   "version": "3.7.4"
  }
 },
 "nbformat": 4,
 "nbformat_minor": 2
}
